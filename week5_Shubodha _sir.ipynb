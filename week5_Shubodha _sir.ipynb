{
  "nbformat": 4,
  "nbformat_minor": 0,
  "metadata": {
    "colab": {
      "provenance": []
    },
    "kernelspec": {
      "name": "python3",
      "display_name": "Python 3"
    },
    "language_info": {
      "name": "python"
    }
  },
  "cells": [
    {
      "cell_type": "code",
      "execution_count": 291,
      "metadata": {
        "id": "yiqdVo0a0Zd8"
      },
      "outputs": [],
      "source": [
        "import tensorflow as tf\n",
        "from tensorflow.keras.models import Sequential\n",
        "from tensorflow.keras.layers import SimpleRNN, Dense, Embedding\n",
        "from tensorflow.keras.preprocessing.text import Tokenizer\n",
        "from tensorflow.keras.preprocessing.sequence import pad_sequences\n",
        "import pandas as pd\n",
        "from sklearn.model_selection import train_test_split\n",
        "import numpy as np\n",
        "from sklearn.preprocessing import MinMaxScaler"
      ]
    },
    {
      "cell_type": "code",
      "source": [
        "from google.colab import drive\n",
        "drive.mount('/content/drive')"
      ],
      "metadata": {
        "colab": {
          "base_uri": "https://localhost:8080/"
        },
        "id": "-OX8gnvl0cYR",
        "outputId": "d352ffd4-0a92-4219-9100-0047497039c2"
      },
      "execution_count": 292,
      "outputs": [
        {
          "output_type": "stream",
          "name": "stdout",
          "text": [
            "Drive already mounted at /content/drive; to attempt to forcibly remount, call drive.mount(\"/content/drive\", force_remount=True).\n"
          ]
        }
      ]
    },
    {
      "cell_type": "code",
      "source": [
        "# Load your dataset\n",
        "def load_data(file_path):\n",
        "    file_path = \"/content/drive/MyDrive/apple_share_price.csv\"\n",
        "\n",
        "\n",
        "    data = pd.read_csv(file_path)\n",
        "    texts = data['Date'].astype(str).tolist()\n",
        "    labels = data['Low'].values\n",
        "    return texts, labels"
      ],
      "metadata": {
        "id": "1s0ePvYi0rj-"
      },
      "execution_count": 293,
      "outputs": []
    },
    {
      "source": [
        "# Normalize the labels if they are in a wide range\n",
        "def preprocess_data(texts, labels, vocab_size=10000, max_length=100):\n",
        "\n",
        "    tokenizer = Tokenizer(num_words=vocab_size, oov_token=\"<OOV>\")\n",
        "    tokenizer.fit_on_texts(texts)\n",
        "    sequences = tokenizer.texts_to_sequences(texts)\n",
        "    padded_sequences = pad_sequences(sequences, maxlen=max_length, padding='post', truncating='post')\n",
        "\n",
        "    scaler = MinMaxScaler()\n",
        "    labels_scaled = scaler.fit_transform(labels.reshape(-1, 1)).flatten()  # Normalize between 0 and 1\n",
        "\n",
        "\n",
        "    # Modified to return 4 values as expected:\n",
        "    return padded_sequences, labels_scaled, tokenizer, sequences"
      ],
      "cell_type": "code",
      "metadata": {
        "id": "KDp4mUT8481E"
      },
      "execution_count": 294,
      "outputs": []
    },
    {
      "source": [
        "# Load dataset\n",
        "file_path = \"/content/drive/MyDrive/apple_share_price.csv\"\n",
        "texts, labels = load_data(file_path)\n",
        "\n",
        "# Preprocess the data and store tokenizer\n",
        "padded_sequences, labels_scaled, tokenizer, sequences = preprocess_data(texts, labels)\n",
        "\n",
        "# Access the vocabulary via tokenizer.word_index\n",
        "vocab = tokenizer.word_index"
      ],
      "cell_type": "code",
      "metadata": {
        "id": "5ZOqiVLU59EQ"
      },
      "execution_count": 295,
      "outputs": []
    },
    {
      "cell_type": "code",
      "source": [
        "vocab"
      ],
      "metadata": {
        "colab": {
          "base_uri": "https://localhost:8080/"
        },
        "id": "Kbh0A3nk6CD-",
        "outputId": "62838429-3200-4577-fa7d-ac262073af32"
      },
      "execution_count": 296,
      "outputs": [
        {
          "output_type": "execute_result",
          "data": {
            "text/plain": [
              "{'<OOV>': 1,\n",
              " '11': 2,\n",
              " '13': 3,\n",
              " '14': 4,\n",
              " '12': 5,\n",
              " '15': 6,\n",
              " '16': 7,\n",
              " '17': 8,\n",
              " 'mar': 9,\n",
              " 'jun': 10,\n",
              " 'may': 11,\n",
              " 'jul': 12,\n",
              " 'apr': 13,\n",
              " 'aug': 14,\n",
              " 'jan': 15,\n",
              " 'feb': 16,\n",
              " 'oct': 17,\n",
              " 'dec': 18,\n",
              " 'sep': 19,\n",
              " 'nov': 20,\n",
              " '10': 21,\n",
              " '9': 22,\n",
              " '7': 23,\n",
              " '8': 24,\n",
              " '6': 25,\n",
              " '23': 26,\n",
              " '3': 27,\n",
              " '28': 28,\n",
              " '27': 29,\n",
              " '24': 30,\n",
              " '21': 31,\n",
              " '19': 32,\n",
              " '2': 33,\n",
              " '20': 34,\n",
              " '18': 35,\n",
              " '5': 36,\n",
              " '22': 37,\n",
              " '4': 38,\n",
              " '26': 39,\n",
              " '1': 40,\n",
              " '25': 41,\n",
              " '29': 42,\n",
              " '30': 43,\n",
              " '31': 44}"
            ]
          },
          "metadata": {},
          "execution_count": 296
        }
      ]
    },
    {
      "source": [
        "sequences = pad_sequences(sequence, maxlen=6, padding = 'post', truncating='post')"
      ],
      "cell_type": "code",
      "metadata": {
        "id": "9_tgnDfs6JXP"
      },
      "execution_count": 297,
      "outputs": []
    },
    {
      "cell_type": "code",
      "source": [
        "sequences"
      ],
      "metadata": {
        "colab": {
          "base_uri": "https://localhost:8080/"
        },
        "id": "5SBSo2aR6Vgd",
        "outputId": "919b0628-f2de-4c2b-b428-eef542ec5314"
      },
      "execution_count": 298,
      "outputs": [
        {
          "output_type": "execute_result",
          "data": {
            "text/plain": [
              "array([[ 3, 15,  8,  0,  0,  0],\n",
              "       [28, 15,  8,  0,  0,  0],\n",
              "       [21, 15,  8,  0,  0,  0],\n",
              "       ...,\n",
              "       [25, 11,  3,  0,  0,  0],\n",
              "       [33, 11,  3,  0,  0,  0],\n",
              "       [26, 11,  3,  0,  0,  0]], dtype=int32)"
            ]
          },
          "metadata": {},
          "execution_count": 298
        }
      ]
    },
    {
      "cell_type": "code",
      "source": [
        "sequences.shape"
      ],
      "metadata": {
        "colab": {
          "base_uri": "https://localhost:8080/"
        },
        "id": "xMKNjnOP6ZD_",
        "outputId": "90ca3822-7a39-47b8-b4f3-3caecd30beb0"
      },
      "execution_count": 299,
      "outputs": [
        {
          "output_type": "execute_result",
          "data": {
            "text/plain": [
              "(1664, 6)"
            ]
          },
          "metadata": {},
          "execution_count": 299
        }
      ]
    },
    {
      "cell_type": "code",
      "source": [
        " sequences.shape[0]"
      ],
      "metadata": {
        "colab": {
          "base_uri": "https://localhost:8080/"
        },
        "id": "c5nMXvWc6bJf",
        "outputId": "18b63d00-5f9d-4c89-db31-eb96235cbf33"
      },
      "execution_count": 300,
      "outputs": [
        {
          "output_type": "execute_result",
          "data": {
            "text/plain": [
              "1664"
            ]
          },
          "metadata": {},
          "execution_count": 300
        }
      ]
    },
    {
      "cell_type": "code",
      "source": [
        "label = np.array(label).reshape(-1)"
      ],
      "metadata": {
        "id": "NTKLAJFZ6ewz"
      },
      "execution_count": 301,
      "outputs": []
    },
    {
      "cell_type": "code",
      "source": [
        "# Split dataset into training and testing\n",
        "x_train_texts, x_test_texts, y_train, y_test = train_test_split(texts, labels, test_size=0.2, random_state=42)\n",
        "\n",
        "vocab_size = 10000\n",
        "max_length = 100\n",
        "\n",
        "# preprocess_data function returns 4 values: padded_sequences, labels_scaled, tokenizer, sequences\n",
        "x_train, y_train, tokenizer, sequences = preprocess_data(x_train_texts, y_train, vocab_size, max_length)\n",
        "x_test, y_test, _, _ = preprocess_data(x_test_texts, y_test, vocab_size, max_length)"
      ],
      "metadata": {
        "id": "F4U_6OGz03cy"
      },
      "execution_count": 302,
      "outputs": []
    },
    {
      "cell_type": "code",
      "source": [
        "X = np.array(range(0,6))\n",
        "X = X.reshape(1, 6)\n",
        "y = np.array([1])\n",
        "y= y.reshape(-1,1)\n",
        "X, y\n"
      ],
      "metadata": {
        "colab": {
          "base_uri": "https://localhost:8080/"
        },
        "id": "2OCh5Pel12YH",
        "outputId": "8240d994-bff2-4fff-85e7-309eee14f951"
      },
      "execution_count": 303,
      "outputs": [
        {
          "output_type": "execute_result",
          "data": {
            "text/plain": [
              "(array([[0, 1, 2, 3, 4, 5]]), array([[1]]))"
            ]
          },
          "metadata": {},
          "execution_count": 303
        }
      ]
    },
    {
      "cell_type": "code",
      "source": [
        "vocab_size = 6\n",
        "max_length = 10\n",
        "\n",
        "x_train, y_train, tokenizer, sequences = preprocess_data(x_train_texts, y_train, vocab_size, max_length)\n",
        "x_test, y_test, _, _ = preprocess_data(x_test_texts, y_test, vocab_size, max_length)\n",
        "\n",
        "# Access the vocabulary\n",
        "vocab = tokenizer.word_index\n",
        "print(f\"Vocabulary (top {vocab_size}): {vocab}\")\n"
      ],
      "metadata": {
        "colab": {
          "base_uri": "https://localhost:8080/"
        },
        "id": "JtijukZ71EAF",
        "outputId": "9930bbd4-a337-486f-a503-1dd80b4c55d2"
      },
      "execution_count": 304,
      "outputs": [
        {
          "output_type": "stream",
          "name": "stdout",
          "text": [
            "Vocabulary (top 6): {'<OOV>': 1, '12': 2, '11': 3, '14': 4, '13': 5, '15': 6, '16': 7, '17': 8, 'may': 9, 'jun': 10, 'jan': 11, 'jul': 12, 'apr': 13, 'mar': 14, 'aug': 15, 'oct': 16, 'feb': 17, 'nov': 18, 'sep': 19, 'dec': 20, '9': 21, '28': 22, '24': 23, '6': 24, '5': 25, '3': 26, '19': 27, '10': 28, '27': 29, '26': 30, '20': 31, '25': 32, '4': 33, '22': 34, '2': 35, '7': 36, '21': 37, '18': 38, '29': 39, '1': 40, '8': 41, '23': 42, '30': 43, '31': 44}\n"
          ]
        }
      ]
    },
    {
      "cell_type": "code",
      "source": [
        "# Build the RNN model\n",
        "model = Sequential([\n",
        "    Embedding(input_dim=vocab_size, output_dim=32, input_length=max_length),\n",
        "    SimpleRNN(units=32, activation='tanh', return_sequences=False, name=\"Simple_RNN\"),\n",
        "    Dense(units=1, activation='sigmoid', name=\"Output_Layer\")\n",
        "])"
      ],
      "metadata": {
        "colab": {
          "base_uri": "https://localhost:8080/"
        },
        "id": "4X_qSUHx1SNO",
        "outputId": "50a9667f-57b5-4793-ca4d-c4ef7566c8be"
      },
      "execution_count": 305,
      "outputs": [
        {
          "output_type": "stream",
          "name": "stderr",
          "text": [
            "/usr/local/lib/python3.10/dist-packages/keras/src/layers/core/embedding.py:90: UserWarning: Argument `input_length` is deprecated. Just remove it.\n",
            "  warnings.warn(\n"
          ]
        }
      ]
    },
    {
      "cell_type": "code",
      "source": [
        "X = np.array(range(10, 26))\n",
        "X = X.reshape(-1, 4, 4)\n",
        "y = np.array(range(1, 5))\n",
        "y = y.reshape(-1, 1)\n",
        "X, y\n"
      ],
      "metadata": {
        "colab": {
          "base_uri": "https://localhost:8080/"
        },
        "id": "2nN8FGoK2ZeW",
        "outputId": "434303bc-429f-43e9-a7c5-c7c543a7803b"
      },
      "execution_count": 306,
      "outputs": [
        {
          "output_type": "execute_result",
          "data": {
            "text/plain": [
              "(array([[[10, 11, 12, 13],\n",
              "         [14, 15, 16, 17],\n",
              "         [18, 19, 20, 21],\n",
              "         [22, 23, 24, 25]]]),\n",
              " array([[1],\n",
              "        [2],\n",
              "        [3],\n",
              "        [4]]))"
            ]
          },
          "metadata": {},
          "execution_count": 306
        }
      ]
    },
    {
      "cell_type": "code",
      "source": [
        "# Compile the model\n",
        "model.compile(optimizer='adam', loss='binary_crossentropy', metrics=['accuracy'])\n"
      ],
      "metadata": {
        "id": "QHDHkn701VWB"
      },
      "execution_count": 307,
      "outputs": []
    },
    {
      "cell_type": "code",
      "source": [
        "model.fit(x_train, y_train)"
      ],
      "metadata": {
        "colab": {
          "base_uri": "https://localhost:8080/"
        },
        "id": "t2_SCP-s8Yxx",
        "outputId": "00517d6d-0b51-4331-c12f-c99c6c98b763"
      },
      "execution_count": 308,
      "outputs": [
        {
          "output_type": "stream",
          "name": "stdout",
          "text": [
            "\u001b[1m42/42\u001b[0m \u001b[32m━━━━━━━━━━━━━━━━━━━━\u001b[0m\u001b[37m\u001b[0m \u001b[1m2s\u001b[0m 4ms/step - accuracy: 5.1283e-04 - loss: 0.6595\n"
          ]
        },
        {
          "output_type": "execute_result",
          "data": {
            "text/plain": [
              "<keras.src.callbacks.history.History at 0x7e955bc30730>"
            ]
          },
          "metadata": {},
          "execution_count": 308
        }
      ]
    },
    {
      "cell_type": "code",
      "source": [
        "# Train the model\n",
        "history = model.fit(x_train, y_train, epochs=5, batch_size=64, validation_split=0.2)\n"
      ],
      "metadata": {
        "colab": {
          "base_uri": "https://localhost:8080/"
        },
        "id": "uaF8JcWe1bZ1",
        "outputId": "89fe6e65-ea27-48fa-c8b1-c9b1d27a52ff"
      },
      "execution_count": 309,
      "outputs": [
        {
          "output_type": "stream",
          "name": "stdout",
          "text": [
            "Epoch 1/5\n",
            "\u001b[1m17/17\u001b[0m \u001b[32m━━━━━━━━━━━━━━━━━━━━\u001b[0m\u001b[37m\u001b[0m \u001b[1m0s\u001b[0m 23ms/step - accuracy: 7.9994e-04 - loss: 0.5694 - val_accuracy: 0.0000e+00 - val_loss: 0.5616\n",
            "Epoch 2/5\n",
            "\u001b[1m17/17\u001b[0m \u001b[32m━━━━━━━━━━━━━━━━━━━━\u001b[0m\u001b[37m\u001b[0m \u001b[1m0s\u001b[0m 8ms/step - accuracy: 0.0011 - loss: 0.5729 - val_accuracy: 0.0000e+00 - val_loss: 0.5613\n",
            "Epoch 3/5\n",
            "\u001b[1m17/17\u001b[0m \u001b[32m━━━━━━━━━━━━━━━━━━━━\u001b[0m\u001b[37m\u001b[0m \u001b[1m0s\u001b[0m 6ms/step - accuracy: 0.0032 - loss: 0.5682 - val_accuracy: 0.0000e+00 - val_loss: 0.5613\n",
            "Epoch 4/5\n",
            "\u001b[1m17/17\u001b[0m \u001b[32m━━━━━━━━━━━━━━━━━━━━\u001b[0m\u001b[37m\u001b[0m \u001b[1m0s\u001b[0m 7ms/step - accuracy: 0.0016 - loss: 0.5663 - val_accuracy: 0.0000e+00 - val_loss: 0.5608\n",
            "Epoch 5/5\n",
            "\u001b[1m17/17\u001b[0m \u001b[32m━━━━━━━━━━━━━━━━━━━━\u001b[0m\u001b[37m\u001b[0m \u001b[1m0s\u001b[0m 7ms/step - accuracy: 0.0023 - loss: 0.5624 - val_accuracy: 0.0000e+00 - val_loss: 0.5620\n"
          ]
        }
      ]
    },
    {
      "cell_type": "code",
      "source": [
        "# Evaluate the model\n",
        "test_loss, test_accuracy = model.evaluate(x_test, y_test)\n",
        "print(f\"Test Loss: {test_loss}, Test Accuracy: {test_accuracy}\")"
      ],
      "metadata": {
        "colab": {
          "base_uri": "https://localhost:8080/"
        },
        "id": "W9eCJjxW1f3G",
        "outputId": "8f27ada5-e5cf-4fc6-af8f-12099c04d625"
      },
      "execution_count": 310,
      "outputs": [
        {
          "output_type": "stream",
          "name": "stdout",
          "text": [
            "\u001b[1m11/11\u001b[0m \u001b[32m━━━━━━━━━━━━━━━━━━━━\u001b[0m\u001b[37m\u001b[0m \u001b[1m0s\u001b[0m 2ms/step - accuracy: 0.0044 - loss: 0.8561     \n",
            "Test Loss: 0.864962637424469, Test Accuracy: 0.006006006151437759\n"
          ]
        }
      ]
    },
    {
      "cell_type": "code",
      "source": [
        "# Get weights and biases of each layer\n",
        "print(\"\\nWeights and Biases of the Model:\")\n",
        "\n",
        "# Get weights and biases of the embedding layer\n",
        "embedding_weights = model.layers[0].get_weights()  # Embedding Layer\n",
        "print(\"\\nEmbedding Layer Weights and Biases:\")\n",
        "print(f\"Embedding Weights Shape: {embedding_weights[0].shape}\")\n",
        "print(f\"Embedding Biases Shape: {embedding_weights[1].shape}\" if len(embedding_weights) > 1 else \"No Biases\")\n",
        "\n",
        "# Get weights and biases of the SimpleRNN layer\n",
        "rnn_weights = model.layers[1].get_weights()  # Simple RNN Layer\n",
        "print(\"\\nSimpleRNN Layer Weights and Biases:\")\n",
        "print(f\"RNN Weights Shape: {rnn_weights[0].shape}\")\n",
        "print(f\"RNN Biases Shape: {rnn_weights[1].shape}\")\n",
        "\n",
        "# Get weights and biases of the output (Dense) layer\n",
        "dense_weights = model.layers[2].get_weights()  # Output Dense Layer\n",
        "print(\"\\nDense Layer Weights and Biases:\")\n",
        "print(f\"Dense Weights Shape: {dense_weights[0].shape}\")\n",
        "print(f\"Dense Biases Shape: {dense_weights[1].shape}\")\n"
      ],
      "metadata": {
        "colab": {
          "base_uri": "https://localhost:8080/"
        },
        "id": "jk4EEYWG-jDG",
        "outputId": "ab66b81d-e1c3-48f8-838e-554b8ff2f9f0"
      },
      "execution_count": 311,
      "outputs": [
        {
          "output_type": "stream",
          "name": "stdout",
          "text": [
            "\n",
            "Weights and Biases of the Model:\n",
            "\n",
            "Embedding Layer Weights and Biases:\n",
            "Embedding Weights Shape: (6, 32)\n",
            "No Biases\n",
            "\n",
            "SimpleRNN Layer Weights and Biases:\n",
            "RNN Weights Shape: (32, 32)\n",
            "RNN Biases Shape: (32, 32)\n",
            "\n",
            "Dense Layer Weights and Biases:\n",
            "Dense Weights Shape: (32, 1)\n",
            "Dense Biases Shape: (1,)\n"
          ]
        }
      ]
    }
  ]
}